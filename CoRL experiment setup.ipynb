{
 "cells": [
  {
   "cell_type": "code",
   "execution_count": 1,
   "id": "33f68db8",
   "metadata": {},
   "outputs": [],
   "source": [
    "# TODO: make a proper ipynb file with relevant steps and examples to get started"
   ]
  },
  {
   "cell_type": "code",
   "execution_count": 2,
   "id": "af46d35f",
   "metadata": {},
   "outputs": [],
   "source": [
    "#@title Imports and Utility Functions\n",
    "from __future__ import absolute_import\n",
    "from __future__ import division\n",
    "from __future__ import print_function\n",
    "\n",
    "import os\n",
    "from collections import Counter\n",
    "import gin\n",
    "import json\n",
    "import numpy as np\n",
    "# import matplotlib.pyplot as plt\n",
    "import tensorflow.compat.v1 as tf\n",
    "from meta_dataset.data import config\n",
    "from meta_dataset.data import dataset_spec as dataset_spec_lib\n",
    "from meta_dataset.data import learning_spec\n",
    "from meta_dataset.data import pipeline\n",
    "\n",
    "# set seed for reproducibility\n",
    "seed=1\n",
    "tf.set_random_seed(seed)\n",
    "np.random.seed(seed)\n",
    "\n",
    "# enable eager mode\n",
    "tf.enable_eager_execution()\n",
    "# tf.disable_eager_execution()"
   ]
  },
  {
   "cell_type": "code",
   "execution_count": 13,
   "id": "4f2a3174",
   "metadata": {},
   "outputs": [
    {
     "name": "stdout",
     "output_type": "stream",
     "text": [
      "Requirement already satisfied: tfrecord in /home/jishnu/anaconda3/lib/python3.9/site-packages (1.14.1)\r\n",
      "Requirement already satisfied: crc32c in /home/jishnu/anaconda3/lib/python3.9/site-packages (from tfrecord) (2.2.post0)\r\n",
      "Requirement already satisfied: numpy in /home/jishnu/anaconda3/lib/python3.9/site-packages (from tfrecord) (1.20.3)\r\n",
      "Requirement already satisfied: protobuf in /home/jishnu/anaconda3/lib/python3.9/site-packages (from tfrecord) (3.19.3)\r\n"
     ]
    }
   ],
   "source": [
    "!pip install tfrecord"
   ]
  },
  {
   "cell_type": "code",
   "execution_count": 36,
   "id": "4628e23f",
   "metadata": {
    "scrolled": true
   },
   "outputs": [
    {
     "name": "stdout",
     "output_type": "stream",
     "text": [
      "class_id=0 num_support=9, 25\n",
      "class_id=1 num_support=9, 0\n",
      "class_id=2 num_support=9, 0\n",
      "total_support=27, total_query=25\n"
     ]
    }
   ],
   "source": [
    "import tfrecord\n",
    "\n",
    "total_support, total_query = 0, 0\n",
    "test_dir='/home/jishnu/Documents/github/meta-dataset/records-non-oversampled/tesla/'\n",
    "\n",
    "for class_id in range(3):\n",
    "    try:\n",
    "        loader = tfrecord.tfrecord_loader(\n",
    "            f\"{test_dir}/{class_id}.tfrecords\", None, {\n",
    "            \"image\": \"byte\",\n",
    "            \"label\": \"int\",\n",
    "            \"set\": \"byte\"\n",
    "        })\n",
    "        num_support, num_query = 0, 0\n",
    "        for idx, record in enumerate(loader):\n",
    "            len_set = len(record[\"set\"])\n",
    "            _set = \"\"\n",
    "            if len_set == 7:\n",
    "                _set = 'support'\n",
    "                num_support+=1\n",
    "            elif len_set == 5:\n",
    "                _set = 'query'\n",
    "                num_query+=1\n",
    "            else:\n",
    "                set = 'none'\n",
    "        total_query += num_query\n",
    "        total_support += num_support\n",
    "        print(f\"{class_id=} {num_support=}, {num_query}\")\n",
    "    except:\n",
    "        pass\n",
    "print(f\"{total_support=}, {total_query=}\")"
   ]
  },
  {
   "cell_type": "code",
   "execution_count": null,
   "id": "6eb7f1e1",
   "metadata": {},
   "outputs": [],
   "source": []
  }
 ],
 "metadata": {
  "kernelspec": {
   "display_name": "Python 3 (ipykernel)",
   "language": "python",
   "name": "python3"
  },
  "language_info": {
   "codemirror_mode": {
    "name": "ipython",
    "version": 3
   },
   "file_extension": ".py",
   "mimetype": "text/x-python",
   "name": "python",
   "nbconvert_exporter": "python",
   "pygments_lexer": "ipython3",
   "version": "3.9.7"
  }
 },
 "nbformat": 4,
 "nbformat_minor": 5
}
